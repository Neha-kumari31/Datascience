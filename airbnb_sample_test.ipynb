{
 "cells": [
  {
   "cell_type": "code",
   "execution_count": 20,
   "metadata": {},
   "outputs": [],
   "source": [
    "import requests\n",
    "import json\n",
    "import pandas as pd\n",
    "from pandas.io.json import json_normalize\n",
    "import joblib"
   ]
  },
  {
   "cell_type": "code",
   "execution_count": null,
   "metadata": {},
   "outputs": [],
   "source": [
    "# Testing with the original parameters"
   ]
  },
  {
   "cell_type": "code",
   "execution_count": null,
   "metadata": {},
   "outputs": [],
   "source": [
    "url = 'https://airbnb-berlin-price-predict.herokuapp.com/'\n",
    "data = {\n",
    "    \"accommodates\": 2,\n",
    "    \"bedrooms\": 1,\n",
    "    \"cleaning_fee\": 30.50,\n",
    "    \"extra_people\": 3,\n",
    "    \"guests_included\": 3,\n",
    "    \"minimum_nights\": 3,\n",
    "    \"neighbourhood_group_cleansed_Mitte\": 0,\n",
    "    \"neighbourhood_group_cleansed_Pankow\": 1,\n",
    "    \"neighbourhood_group_cleansed_Tempelhof_Schoneberg\": 0,\n",
    "    \"neighbourhood_group_cleansed_Friedrichshain_Kreuzberg\": 0,\n",
    "    \"neighbourhood_group_cleansed_Neukolln\": 0,\n",
    "    \"neighbourhood_group_cleansed_Charlottenburg_Wilm\": 0,\n",
    "    \"neighbourhood_group_cleansed_Treptow_Kopenick\": 0,\n",
    "    \"neighbourhood_group_cleansed_Steglitz_Zehlendorf\": 0,\n",
    "    \"neighbourhood_group_cleansed_Reinickendorf\": 0,\n",
    "    \"neighbourhood_group_cleansed_Lichtenberg\": 0,\n",
    "    \"neighbourhood_group_cleansed_Marzahn_Hellersdorf\": 0,\n",
    "    \"neighbourhood_group_cleansed_Spandau\": 0, \n",
    "    \"property_type_Guesthouse\": 0,\n",
    "    \"property_type_Apartment\": 0,\n",
    "    \"property_type_Condominium\": 0,\n",
    "    \"property_type_Loft\": 0,\n",
    "    \"property_type_House\": 0,\n",
    "    \"property_type_Serviced_apartment\": 0,\n",
    "    \"property_type_Townhouse\": 0,\n",
    "    \"property_type_Other\": 1,\n",
    "    \"property_type_Bed_and_breakfast\": 0,\n",
    "    \"property_type_Guest_suite\": 0,\n",
    "    \"property_type_Hostel\": 0,\n",
    "    \"room_type_Entire_home/apt\": 0,\n",
    "    \"room_type_Private_room\": 1,\n",
    "    \"room_type_Shared_room\": 0,\n",
    "    \"bed_type_Real_Bed\": 0,\n",
    "    \"bed_type_Sofa_Other\": 1,\n",
    "    \"instant_bookable_f\": 1,\n",
    "    \"instant_bookable_t\": 0,\n",
    "    \"cancellation_policy_strict\": 1,\n",
    "    \"cancellation_policy_flexible\": 0,\n",
    "    \"cancellation_policy_moderate\": 0\n",
    "}"
   ]
  },
  {
   "cell_type": "code",
   "execution_count": null,
   "metadata": {},
   "outputs": [],
   "source": [
    "feature_data = json.dumps(feature_data)"
   ]
  },
  {
   "cell_type": "code",
   "execution_count": null,
   "metadata": {},
   "outputs": [],
   "source": [
    "# A response of 200 means everything went alright\n",
    "\n",
    "post_request = requests.post(url, feature_data)\n",
    "print(post_request)"
   ]
  },
  {
   "cell_type": "code",
   "execution_count": null,
   "metadata": {},
   "outputs": [],
   "source": [
    "print(post_request.json())"
   ]
  },
  {
   "cell_type": "code",
   "execution_count": 2,
   "metadata": {},
   "outputs": [],
   "source": [
    "with open('features.json', 'r') as f:\n",
    "    features_dict = json.load(f)"
   ]
  },
  {
   "cell_type": "code",
   "execution_count": 6,
   "metadata": {},
   "outputs": [
    {
     "data": {
      "text/plain": [
       "dict"
      ]
     },
     "execution_count": 6,
     "metadata": {},
     "output_type": "execute_result"
    }
   ],
   "source": [
    "type(features_dict)"
   ]
  },
  {
   "cell_type": "code",
   "execution_count": 18,
   "metadata": {},
   "outputs": [
    {
     "data": {
      "text/html": [
       "<div>\n",
       "<style scoped>\n",
       "    .dataframe tbody tr th:only-of-type {\n",
       "        vertical-align: middle;\n",
       "    }\n",
       "\n",
       "    .dataframe tbody tr th {\n",
       "        vertical-align: top;\n",
       "    }\n",
       "\n",
       "    .dataframe thead th {\n",
       "        text-align: right;\n",
       "    }\n",
       "</style>\n",
       "<table border=\"1\" class=\"dataframe\">\n",
       "  <thead>\n",
       "    <tr style=\"text-align: right;\">\n",
       "      <th></th>\n",
       "      <th>accommodates</th>\n",
       "      <th>bed_type_Real_Bed</th>\n",
       "      <th>bed_type_Sofa_Other</th>\n",
       "      <th>bedrooms</th>\n",
       "      <th>cancellation_policy_flexible</th>\n",
       "      <th>cancellation_policy_moderate</th>\n",
       "      <th>cancellation_policy_strict</th>\n",
       "      <th>cleaning_fee</th>\n",
       "      <th>extra_people</th>\n",
       "      <th>guests_included</th>\n",
       "      <th>...</th>\n",
       "      <th>property_type_Guesthouse</th>\n",
       "      <th>property_type_Hostel</th>\n",
       "      <th>property_type_House</th>\n",
       "      <th>property_type_Loft</th>\n",
       "      <th>property_type_Other</th>\n",
       "      <th>property_type_Serviced_apartment</th>\n",
       "      <th>property_type_Townhouse</th>\n",
       "      <th>room_type_Entire_home/apt</th>\n",
       "      <th>room_type_Private_room</th>\n",
       "      <th>room_type_Shared_room</th>\n",
       "    </tr>\n",
       "  </thead>\n",
       "  <tbody>\n",
       "    <tr>\n",
       "      <th>0</th>\n",
       "      <td>0</td>\n",
       "      <td>0</td>\n",
       "      <td>0</td>\n",
       "      <td>0</td>\n",
       "      <td>0</td>\n",
       "      <td>0</td>\n",
       "      <td>0</td>\n",
       "      <td>0</td>\n",
       "      <td>0</td>\n",
       "      <td>0</td>\n",
       "      <td>...</td>\n",
       "      <td>0</td>\n",
       "      <td>0</td>\n",
       "      <td>0</td>\n",
       "      <td>0</td>\n",
       "      <td>0</td>\n",
       "      <td>0</td>\n",
       "      <td>0</td>\n",
       "      <td>0</td>\n",
       "      <td>0</td>\n",
       "      <td>0</td>\n",
       "    </tr>\n",
       "  </tbody>\n",
       "</table>\n",
       "<p>1 rows × 39 columns</p>\n",
       "</div>"
      ],
      "text/plain": [
       "   accommodates  bed_type_Real_Bed  bed_type_Sofa_Other  bedrooms  \\\n",
       "0             0                  0                    0         0   \n",
       "\n",
       "   cancellation_policy_flexible  cancellation_policy_moderate  \\\n",
       "0                             0                             0   \n",
       "\n",
       "   cancellation_policy_strict  cleaning_fee  extra_people  guests_included  \\\n",
       "0                           0             0             0                0   \n",
       "\n",
       "   ...  property_type_Guesthouse  property_type_Hostel  property_type_House  \\\n",
       "0  ...                         0                     0                    0   \n",
       "\n",
       "   property_type_Loft  property_type_Other  property_type_Serviced_apartment  \\\n",
       "0                   0                    0                                 0   \n",
       "\n",
       "   property_type_Townhouse  room_type_Entire_home/apt  room_type_Private_room  \\\n",
       "0                        0                          0                       0   \n",
       "\n",
       "   room_type_Shared_room  \n",
       "0                      0  \n",
       "\n",
       "[1 rows x 39 columns]"
      ]
     },
     "execution_count": 18,
     "metadata": {},
     "output_type": "execute_result"
    }
   ],
   "source": [
    "json_normalize(features_dict)"
   ]
  },
  {
   "cell_type": "code",
   "execution_count": 21,
   "metadata": {},
   "outputs": [],
   "source": [
    "model = joblib.load(open('berlin_model.gz', 'rb'))"
   ]
  },
  {
   "cell_type": "code",
   "execution_count": 24,
   "metadata": {},
   "outputs": [
    {
     "data": {
      "text/plain": [
       "32.73109200160812"
      ]
     },
     "execution_count": 24,
     "metadata": {},
     "output_type": "execute_result"
    }
   ],
   "source": [
    "model.predict(json_normalize(features_dict))[0]"
   ]
  },
  {
   "cell_type": "code",
   "execution_count": null,
   "metadata": {},
   "outputs": [],
   "source": []
  }
 ],
 "metadata": {
  "kernelspec": {
   "display_name": "Python 3",
   "language": "python",
   "name": "python3"
  },
  "language_info": {
   "codemirror_mode": {
    "name": "ipython",
    "version": 3
   },
   "file_extension": ".py",
   "mimetype": "text/x-python",
   "name": "python",
   "nbconvert_exporter": "python",
   "pygments_lexer": "ipython3",
   "version": "3.7.4"
  }
 },
 "nbformat": 4,
 "nbformat_minor": 2
}
